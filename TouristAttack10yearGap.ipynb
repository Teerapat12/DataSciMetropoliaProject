{
  "cells": [
    {
      "metadata": {
        "_uuid": "b8e84965b22b3f1a18fdb8e3ffe2133c9ddd3b4a",
        "_cell_guid": "2869c68b-ab54-4dea-83f4-80eeda6cf4e7",
        "trusted": true
      },
      "cell_type": "code",
      "source": "# This Python 3 environment comes with many helpful analytics libraries installed\n# It is defined by the kaggle/python docker image: https://github.com/kaggle/docker-python\n# For example, here's several helpful packages to load in \n\nimport numpy as np # linear algebra\nimport pandas as pd # data processing, CSV file I/O (e.g. pd.read_csv)\n\n# Input data files are available in the \"../input/\" directory.\n# For example, running this (by clicking run or pressing Shift+Enter) will list the files in the input directory\n\nfrom subprocess import check_output\nprint(check_output([\"ls\", \"../input\"]).decode(\"utf8\"))\n\n# Any results you write to the current directory are saved as output.",
      "execution_count": 1,
      "outputs": [
        {
          "output_type": "stream",
          "text": "globalterrorismdb_0617dist.csv\n\n",
          "name": "stdout"
        }
      ]
    },
    {
      "metadata": {
        "_uuid": "7cc39a1ff9a0e46ef644ebe893b950ea6929f2d0",
        "_cell_guid": "c3730ff8-4290-4970-b5d3-983f8730eb3b",
        "trusted": true
      },
      "cell_type": "code",
      "source": "df = pd.read_csv(\"../input/globalterrorismdb_0617dist.csv\",encoding='ISO-8859-1')\ndf.head()",
      "execution_count": 27,
      "outputs": [
        {
          "output_type": "stream",
          "text": "/opt/conda/lib/python3.6/site-packages/IPython/core/interactiveshell.py:2698: DtypeWarning: Columns (4,6,31,33,53,61,62,63,76,79,90,92,94,96,114,115,121) have mixed types. Specify dtype option on import or set low_memory=False.\n  interactivity=interactivity, compiler=compiler, result=result)\n",
          "name": "stderr"
        },
        {
          "output_type": "execute_result",
          "execution_count": 27,
          "data": {
            "text/plain": "        eventid  iyear  imonth  iday approxdate  extended resolution  country  \\\n0  197000000001   1970       7     2        NaN         0        NaN       58   \n1  197000000002   1970       0     0        NaN         0        NaN      130   \n2  197001000001   1970       1     0        NaN         0        NaN      160   \n3  197001000002   1970       1     0        NaN         0        NaN       78   \n4  197001000003   1970       1     0        NaN         0        NaN      101   \n\n          country_txt  region   ...    addnotes scite1 scite2  scite3  \\\n0  Dominican Republic       2   ...         NaN    NaN    NaN     NaN   \n1              Mexico       1   ...         NaN    NaN    NaN     NaN   \n2         Philippines       5   ...         NaN    NaN    NaN     NaN   \n3              Greece       8   ...         NaN    NaN    NaN     NaN   \n4               Japan       4   ...         NaN    NaN    NaN     NaN   \n\n   dbsource  INT_LOG  INT_IDEO INT_MISC INT_ANY  related  \n0      PGIS        0         0        0       0      NaN  \n1      PGIS        0         1        1       1      NaN  \n2      PGIS       -9        -9        1       1      NaN  \n3      PGIS       -9        -9        1       1      NaN  \n4      PGIS       -9        -9        1       1      NaN  \n\n[5 rows x 135 columns]",
            "text/html": "<div>\n<style>\n    .dataframe thead tr:only-child th {\n        text-align: right;\n    }\n\n    .dataframe thead th {\n        text-align: left;\n    }\n\n    .dataframe tbody tr th {\n        vertical-align: top;\n    }\n</style>\n<table border=\"1\" class=\"dataframe\">\n  <thead>\n    <tr style=\"text-align: right;\">\n      <th></th>\n      <th>eventid</th>\n      <th>iyear</th>\n      <th>imonth</th>\n      <th>iday</th>\n      <th>approxdate</th>\n      <th>extended</th>\n      <th>resolution</th>\n      <th>country</th>\n      <th>country_txt</th>\n      <th>region</th>\n      <th>...</th>\n      <th>addnotes</th>\n      <th>scite1</th>\n      <th>scite2</th>\n      <th>scite3</th>\n      <th>dbsource</th>\n      <th>INT_LOG</th>\n      <th>INT_IDEO</th>\n      <th>INT_MISC</th>\n      <th>INT_ANY</th>\n      <th>related</th>\n    </tr>\n  </thead>\n  <tbody>\n    <tr>\n      <th>0</th>\n      <td>197000000001</td>\n      <td>1970</td>\n      <td>7</td>\n      <td>2</td>\n      <td>NaN</td>\n      <td>0</td>\n      <td>NaN</td>\n      <td>58</td>\n      <td>Dominican Republic</td>\n      <td>2</td>\n      <td>...</td>\n      <td>NaN</td>\n      <td>NaN</td>\n      <td>NaN</td>\n      <td>NaN</td>\n      <td>PGIS</td>\n      <td>0</td>\n      <td>0</td>\n      <td>0</td>\n      <td>0</td>\n      <td>NaN</td>\n    </tr>\n    <tr>\n      <th>1</th>\n      <td>197000000002</td>\n      <td>1970</td>\n      <td>0</td>\n      <td>0</td>\n      <td>NaN</td>\n      <td>0</td>\n      <td>NaN</td>\n      <td>130</td>\n      <td>Mexico</td>\n      <td>1</td>\n      <td>...</td>\n      <td>NaN</td>\n      <td>NaN</td>\n      <td>NaN</td>\n      <td>NaN</td>\n      <td>PGIS</td>\n      <td>0</td>\n      <td>1</td>\n      <td>1</td>\n      <td>1</td>\n      <td>NaN</td>\n    </tr>\n    <tr>\n      <th>2</th>\n      <td>197001000001</td>\n      <td>1970</td>\n      <td>1</td>\n      <td>0</td>\n      <td>NaN</td>\n      <td>0</td>\n      <td>NaN</td>\n      <td>160</td>\n      <td>Philippines</td>\n      <td>5</td>\n      <td>...</td>\n      <td>NaN</td>\n      <td>NaN</td>\n      <td>NaN</td>\n      <td>NaN</td>\n      <td>PGIS</td>\n      <td>-9</td>\n      <td>-9</td>\n      <td>1</td>\n      <td>1</td>\n      <td>NaN</td>\n    </tr>\n    <tr>\n      <th>3</th>\n      <td>197001000002</td>\n      <td>1970</td>\n      <td>1</td>\n      <td>0</td>\n      <td>NaN</td>\n      <td>0</td>\n      <td>NaN</td>\n      <td>78</td>\n      <td>Greece</td>\n      <td>8</td>\n      <td>...</td>\n      <td>NaN</td>\n      <td>NaN</td>\n      <td>NaN</td>\n      <td>NaN</td>\n      <td>PGIS</td>\n      <td>-9</td>\n      <td>-9</td>\n      <td>1</td>\n      <td>1</td>\n      <td>NaN</td>\n    </tr>\n    <tr>\n      <th>4</th>\n      <td>197001000003</td>\n      <td>1970</td>\n      <td>1</td>\n      <td>0</td>\n      <td>NaN</td>\n      <td>0</td>\n      <td>NaN</td>\n      <td>101</td>\n      <td>Japan</td>\n      <td>4</td>\n      <td>...</td>\n      <td>NaN</td>\n      <td>NaN</td>\n      <td>NaN</td>\n      <td>NaN</td>\n      <td>PGIS</td>\n      <td>-9</td>\n      <td>-9</td>\n      <td>1</td>\n      <td>1</td>\n      <td>NaN</td>\n    </tr>\n  </tbody>\n</table>\n<p>5 rows × 135 columns</p>\n</div>"
          },
          "metadata": {}
        }
      ]
    },
    {
      "metadata": {
        "trusted": true,
        "_uuid": "aa75effd27cb0fb4061478c6e8ad8dfc937af5cb"
      },
      "cell_type": "code",
      "source": "minYear = 2006\nmaxYear = 2016\ndf = df[(df['iyear']>=minYear)& (df['iyear']<=maxYear)]\ndf.head()",
      "execution_count": 29,
      "outputs": [
        {
          "output_type": "execute_result",
          "execution_count": 29,
          "data": {
            "text/plain": "            eventid  iyear  imonth  iday  approxdate  extended resolution  \\\n79248  200601000008   2006       1     0  01/17/2006         0        NaN   \n79249  200601000009   2006       1     0  01/17/2006         0        NaN   \n79250  200601000010   2006       1     0  01/17/2006         0        NaN   \n79251  200601000011   2006       1     0  01/17/2006         0        NaN   \n79252  200601000012   2006       1     0  01/17/2006         0        NaN   \n\n       country  country_txt  region   ...     \\\n79248        4  Afghanistan       6   ...      \n79249       97       Israel      10   ...      \n79250       95         Iraq      10   ...      \n79251       95         Iraq      10   ...      \n79252       95         Iraq      10   ...      \n\n                                                addnotes  \\\n79248  The burning of schools is rampant in southern ...   \n79249                                                NaN   \n79250                                                NaN   \n79251                 Victim's body was \"Bullet ridden\".   \n79252                                                NaN   \n\n                                                  scite1  \\\n79248  Girls School Set on Fire in Western Province...   \n79249  Israel Arrests 8 Palestinians Despite Promise...   \n79250  US Troops Conduct Random Arrests in Al-Fall...   \n79251  Jonathan Finer, U.S. Forces Release 5 Female ...   \n79252  Robert Worth, Bombings at Christian Sites Lea...   \n\n                                                  scite2  \\\n79248  Those Setting Fires to Schools Should be Stam...   \n79249  No One Hurt by Qassam Rockets; Five Palestini...   \n79250  Army Hospital Treating ABC News Anchor Injure...   \n79251                                                NaN   \n79252  Soldiers Arrest Chief of Baghdad Kidnapping C...   \n\n                                                  scite3  dbsource  INT_LOG  \\\n79248                                                NaN     CETIS        0   \n79249  Matti Friedman, In Striking Distance, The Je...     CETIS       -9   \n79250                                                NaN     CETIS       -9   \n79251                                                NaN     CETIS       -9   \n79252                                                NaN     CETIS       -9   \n\n       INT_IDEO INT_MISC INT_ANY  related  \n79248         0        0       0      NaN  \n79249        -9        0      -9      NaN  \n79250        -9        0      -9      NaN  \n79251        -9        0      -9      NaN  \n79252        -9        0      -9      NaN  \n\n[5 rows x 135 columns]",
            "text/html": "<div>\n<style>\n    .dataframe thead tr:only-child th {\n        text-align: right;\n    }\n\n    .dataframe thead th {\n        text-align: left;\n    }\n\n    .dataframe tbody tr th {\n        vertical-align: top;\n    }\n</style>\n<table border=\"1\" class=\"dataframe\">\n  <thead>\n    <tr style=\"text-align: right;\">\n      <th></th>\n      <th>eventid</th>\n      <th>iyear</th>\n      <th>imonth</th>\n      <th>iday</th>\n      <th>approxdate</th>\n      <th>extended</th>\n      <th>resolution</th>\n      <th>country</th>\n      <th>country_txt</th>\n      <th>region</th>\n      <th>...</th>\n      <th>addnotes</th>\n      <th>scite1</th>\n      <th>scite2</th>\n      <th>scite3</th>\n      <th>dbsource</th>\n      <th>INT_LOG</th>\n      <th>INT_IDEO</th>\n      <th>INT_MISC</th>\n      <th>INT_ANY</th>\n      <th>related</th>\n    </tr>\n  </thead>\n  <tbody>\n    <tr>\n      <th>79248</th>\n      <td>200601000008</td>\n      <td>2006</td>\n      <td>1</td>\n      <td>0</td>\n      <td>01/17/2006</td>\n      <td>0</td>\n      <td>NaN</td>\n      <td>4</td>\n      <td>Afghanistan</td>\n      <td>6</td>\n      <td>...</td>\n      <td>The burning of schools is rampant in southern ...</td>\n      <td>Girls School Set on Fire in Western Province...</td>\n      <td>Those Setting Fires to Schools Should be Stam...</td>\n      <td>NaN</td>\n      <td>CETIS</td>\n      <td>0</td>\n      <td>0</td>\n      <td>0</td>\n      <td>0</td>\n      <td>NaN</td>\n    </tr>\n    <tr>\n      <th>79249</th>\n      <td>200601000009</td>\n      <td>2006</td>\n      <td>1</td>\n      <td>0</td>\n      <td>01/17/2006</td>\n      <td>0</td>\n      <td>NaN</td>\n      <td>97</td>\n      <td>Israel</td>\n      <td>10</td>\n      <td>...</td>\n      <td>NaN</td>\n      <td>Israel Arrests 8 Palestinians Despite Promise...</td>\n      <td>No One Hurt by Qassam Rockets; Five Palestini...</td>\n      <td>Matti Friedman, In Striking Distance, The Je...</td>\n      <td>CETIS</td>\n      <td>-9</td>\n      <td>-9</td>\n      <td>0</td>\n      <td>-9</td>\n      <td>NaN</td>\n    </tr>\n    <tr>\n      <th>79250</th>\n      <td>200601000010</td>\n      <td>2006</td>\n      <td>1</td>\n      <td>0</td>\n      <td>01/17/2006</td>\n      <td>0</td>\n      <td>NaN</td>\n      <td>95</td>\n      <td>Iraq</td>\n      <td>10</td>\n      <td>...</td>\n      <td>NaN</td>\n      <td>US Troops Conduct Random Arrests in Al-Fall...</td>\n      <td>Army Hospital Treating ABC News Anchor Injure...</td>\n      <td>NaN</td>\n      <td>CETIS</td>\n      <td>-9</td>\n      <td>-9</td>\n      <td>0</td>\n      <td>-9</td>\n      <td>NaN</td>\n    </tr>\n    <tr>\n      <th>79251</th>\n      <td>200601000011</td>\n      <td>2006</td>\n      <td>1</td>\n      <td>0</td>\n      <td>01/17/2006</td>\n      <td>0</td>\n      <td>NaN</td>\n      <td>95</td>\n      <td>Iraq</td>\n      <td>10</td>\n      <td>...</td>\n      <td>Victim's body was \"Bullet ridden\".</td>\n      <td>Jonathan Finer, U.S. Forces Release 5 Female ...</td>\n      <td>NaN</td>\n      <td>NaN</td>\n      <td>CETIS</td>\n      <td>-9</td>\n      <td>-9</td>\n      <td>0</td>\n      <td>-9</td>\n      <td>NaN</td>\n    </tr>\n    <tr>\n      <th>79252</th>\n      <td>200601000012</td>\n      <td>2006</td>\n      <td>1</td>\n      <td>0</td>\n      <td>01/17/2006</td>\n      <td>0</td>\n      <td>NaN</td>\n      <td>95</td>\n      <td>Iraq</td>\n      <td>10</td>\n      <td>...</td>\n      <td>NaN</td>\n      <td>Robert Worth, Bombings at Christian Sites Lea...</td>\n      <td>Soldiers Arrest Chief of Baghdad Kidnapping C...</td>\n      <td>NaN</td>\n      <td>CETIS</td>\n      <td>-9</td>\n      <td>-9</td>\n      <td>0</td>\n      <td>-9</td>\n      <td>NaN</td>\n    </tr>\n  </tbody>\n</table>\n<p>5 rows × 135 columns</p>\n</div>"
          },
          "metadata": {}
        }
      ]
    },
    {
      "metadata": {
        "_uuid": "e37a4364f6effbcd91b89d768894c7aa063c6bd3",
        "_cell_guid": "db5a0ce4-0961-4f29-8943-2b6af902f16f"
      },
      "cell_type": "markdown",
      "source": "# Countries with highest terrorism attacks.\n\n_____"
    },
    {
      "metadata": {
        "_uuid": "a3a4d6d9df4b456a62b42e7e886497ba328e9c94",
        "_cell_guid": "9898ab91-3b81-4c61-9c5a-4651bafc4eed",
        "trusted": true
      },
      "cell_type": "code",
      "source": "df['country_txt'].value_counts().head(12)",
      "execution_count": 30,
      "outputs": [
        {
          "output_type": "execute_result",
          "execution_count": 30,
          "data": {
            "text/plain": "Iraq           20925\nPakistan       11496\nAfghanistan    10773\nIndia           6893\nPhilippines     3830\nNigeria         3296\nSomalia         3287\nThailand        3207\nYemen           2963\nLibya           2039\nSyria           1802\nEgypt           1686\nName: country_txt, dtype: int64"
          },
          "metadata": {}
        }
      ]
    },
    {
      "metadata": {
        "_uuid": "3488dac7fc7dbd1e17fee1247b4b8e0847de72ae",
        "_cell_guid": "8c244321-0e61-4f22-84e1-45d8136035e3"
      },
      "cell_type": "markdown",
      "source": "* # Be more careful during these months"
    },
    {
      "metadata": {
        "_uuid": "08deda62c7c06ddc8e1b68479bff914b8a0c61bc",
        "_cell_guid": "ca4de0de-417f-495f-b43a-8bc0ad3ae812",
        "trusted": true
      },
      "cell_type": "code",
      "source": "def monthlyCrime(countryNames):\n    for countryName in countryNames:\n        crimeInCountry = df[df['country_txt']==countryName]\n        minYear = crimeInCountry['iyear'].min()\n        maxYear = crimeInCountry['iyear'].max()\n        print(\"Range of crime in \"+countryName+\": \",end='')\n        print(str(minYear)+\"-\"+str(maxYear))\n        monthCount =crimeInCountry['imonth'].value_counts()\n        monthCount.sort_index().plot(ylim=(0,2200),legend=True,label=countryName)\nmonthlyCrime(['Iraq','Thailand','United States','Finland'])\n# During Chrismas, New Year, you should be more careful in Iraq\n# For Thailand, be careful on August\n# For US, no clear patterns.",
      "execution_count": 31,
      "outputs": [
        {
          "output_type": "stream",
          "text": "Range of crime in Iraq: 2006-2016\nRange of crime in Thailand: 2006-2016\nRange of crime in United States: 2006-2016\nRange of crime in Finland: 2007-2016\n",
          "name": "stdout"
        },
        {
          "output_type": "display_data",
          "data": {
            "text/plain": "<matplotlib.figure.Figure at 0x7f9397686240>",
            "image/png": "[encoded data removed]"
          },
          "metadata": {}
        }
      ]
    },
    {
      "metadata": {
        "_uuid": "51b52e7fa6bd8beae61db18c1782fb3b48bee3fc",
        "_cell_guid": "0dd87274-5517-4dfb-8830-6b395a7ad6ae"
      },
      "cell_type": "markdown",
      "source": "## Be more careful around these cities\n___"
    },
    {
      "metadata": {
        "collapsed": true,
        "_uuid": "db88c8ab255dcbed786c16ee02dfd02a2d5922d9",
        "_cell_guid": "91d8bdd9-8769-4fcf-9984-d8e38170db20",
        "trusted": true
      },
      "cell_type": "code",
      "source": "def crimeByCity(countryName):\n    return df[df['country_txt']==countryName]['city'].value_counts().head(10)",
      "execution_count": 32,
      "outputs": []
    },
    {
      "metadata": {
        "_uuid": "1c7e4c9e00ef547328fa545ff57637b442aa2e05",
        "_cell_guid": "2ba755b7-c8d2-43e2-8f02-687c34f905ca",
        "trusted": true
      },
      "cell_type": "code",
      "source": "crimeByCity('Iraq')\n# We can say that Baghdad is the most terrorist attraction (pun intended)\n# Maybe because it is the capital city so it has a lot more crime compare to other",
      "execution_count": 33,
      "outputs": [
        {
          "output_type": "execute_result",
          "execution_count": 33,
          "data": {
            "text/plain": "Baghdad         6694\nMosul           1707\nKirkuk           815\nBaqubah          679\nFallujah         550\nRamadi           460\nUnknown          438\nTikrit           377\nAbu Ghraib       279\nTuz Khormato     265\nName: city, dtype: int64"
          },
          "metadata": {}
        }
      ]
    },
    {
      "metadata": {
        "_uuid": "4b4cef7b2c2b3eaf894aeb759f0b087c6d0213ac",
        "_cell_guid": "d6e78a39-a389-4451-b7c8-bae469034bf3",
        "trusted": true
      },
      "cell_type": "code",
      "source": "crimeByCity('Thailand')\n# Many cities with high crime rates, different from Iraq where most crime occur in one city.",
      "execution_count": 34,
      "outputs": [
        {
          "output_type": "execute_result",
          "execution_count": 34,
          "data": {
            "text/plain": "Unknown         182\nBangkok         149\nMuang           113\nYala            109\nBannang Sata     65\nPattani          56\nSungai Kolok     51\nYarang           50\nRaman            49\nKhok Pho         42\nName: city, dtype: int64"
          },
          "metadata": {}
        }
      ]
    },
    {
      "metadata": {
        "_uuid": "9e328cf39408cb7c01225d75fd5a46fb3736f976",
        "_cell_guid": "1c1cee45-3e1f-4ae7-af16-2a6fcc63fae7",
        "trusted": true
      },
      "cell_type": "code",
      "source": "crimeByCity('United States')\n# Similar to Iraq in which the cpaital city has the most crime occured.",
      "execution_count": 35,
      "outputs": [
        {
          "output_type": "execute_result",
          "execution_count": 35,
          "data": {
            "text/plain": "New York City    19\nLos Angeles       9\nWashington        7\nAustin            5\nLas Vegas         5\nTampa             4\nJoplin            4\nKansas City       4\nSeattle           4\nDenver            4\nName: city, dtype: int64"
          },
          "metadata": {}
        }
      ]
    },
    {
      "metadata": {
        "_uuid": "ea5c277f90bd1e564c105b39afd7b22807f5ba55",
        "_cell_guid": "3b157f50-892c-44c3-a9cc-215fd3d9c36d",
        "trusted": true
      },
      "cell_type": "code",
      "source": "crimeByCity('Finland')\n# Similar to Iraq in which the cpaital city has the most crime occured.",
      "execution_count": 36,
      "outputs": [
        {
          "output_type": "execute_result",
          "execution_count": 36,
          "data": {
            "text/plain": "Tuusula        1\nOulu           1\nKeltakangas    1\nYlivieska      1\nKankaanpaa     1\nPargas         1\nPetajavesi     1\nKangasala      1\nAsikkala       1\nRauma          1\nName: city, dtype: int64"
          },
          "metadata": {}
        }
      ]
    },
    {
      "metadata": {
        "_uuid": "07957227a1bfd280c1553ba8f802804749ecf747",
        "_cell_guid": "bf025c56-06a2-48e4-b4aa-1cb61ff3f44f"
      },
      "cell_type": "markdown",
      "source": "### From all of this we can conclude that \n1.  Be alert of your life when you travel to capital city (or large city)\n1. Even more alert when you go to Iraq (especially Baghdad)"
    },
    {
      "metadata": {
        "_uuid": "89e65a07d702a5285189cbfa3e1615994e64f4d8",
        "_cell_guid": "895657b0-632e-46a5-b885-2472eaf8cb98"
      },
      "cell_type": "markdown",
      "source": "## Explore crime concerning with Tourists"
    },
    {
      "metadata": {
        "_uuid": "c36a21356105fc3972108b2798df08e00b0f087b",
        "_cell_guid": "2c63a558-2ef7-45e7-82e4-60f6ad20b02b",
        "trusted": true
      },
      "cell_type": "code",
      "source": "df[df['targtype1_txt']=='Tourists']['country_txt'].value_counts().head(20)",
      "execution_count": 37,
      "outputs": [
        {
          "output_type": "execute_result",
          "execution_count": 37,
          "data": {
            "text/plain": "Yemen          12\nIndia          10\nIraq            8\nEgypt           8\nPakistan        7\nPhilippines     7\nColombia        4\nFrance          4\nTunisia         4\nTurkey          3\nAfghanistan     2\nSri Lanka       2\nEthiopia        2\nMyanmar         2\nJordan          2\nMali            2\nRussia          2\nAlgeria         2\nIran            2\nKenya           2\nName: country_txt, dtype: int64"
          },
          "metadata": {}
        }
      ]
    },
    {
      "metadata": {
        "_uuid": "9670087a115251e97e485e580feb7127558142d5",
        "_cell_guid": "bfbd36a2-c3a2-4844-b13f-3648c69b952f"
      },
      "cell_type": "markdown",
      "source": "## Tourist crime by region"
    },
    {
      "metadata": {
        "_uuid": "ad1d9190863b91ddf559d2cdf7b99d8656bdbcf1",
        "_cell_guid": "29d2b83b-93a1-4d3d-a5ae-4feac9b9fb6b",
        "trusted": true
      },
      "cell_type": "code",
      "source": "df[df['targtype1_txt']=='Tourists']['region_txt'].value_counts()\n# Most countries are from Middle East & North Africa. Second is Western Europe.",
      "execution_count": 39,
      "outputs": [
        {
          "output_type": "execute_result",
          "execution_count": 39,
          "data": {
            "text/plain": "Middle East & North Africa    45\nSouth Asia                    23\nSub-Saharan Africa            11\nSoutheast Asia                11\nSouth America                  5\nWestern Europe                 5\nEastern Europe                 4\nNorth America                  1\nEast Asia                      1\nName: region_txt, dtype: int64"
          },
          "metadata": {}
        }
      ]
    },
    {
      "metadata": {
        "_uuid": "aaaca9ed9de2c0869ade489ec1ad257e714364be",
        "_cell_guid": "61c4a465-cf1f-423e-9d06-690acc22202d"
      },
      "cell_type": "markdown",
      "source": "![](http://)## Type of attacks towards tourists"
    },
    {
      "metadata": {
        "_uuid": "67ea15a4560be626f94c9f9d0ee16c65a5ebe787",
        "_cell_guid": "bd12b473-a9eb-4d30-8d74-716771fc4954",
        "trusted": true
      },
      "cell_type": "code",
      "source": "df[df['targtype1_txt']=='Tourists']['attacktype1_txt'].value_counts()\n# Bombing is the most efficient (and conveinant) way  for terrorist to do bad things.\n# You should be careful to explosion",
      "execution_count": 40,
      "outputs": [
        {
          "output_type": "execute_result",
          "execution_count": 40,
          "data": {
            "text/plain": "Hostage Taking (Kidnapping)            40\nBombing/Explosion                      37\nArmed Assault                          19\nFacility/Infrastructure Attack          4\nHostage Taking (Barricade Incident)     3\nHijacking                               1\nUnarmed Assault                         1\nUnknown                                 1\nName: attacktype1_txt, dtype: int64"
          },
          "metadata": {}
        }
      ]
    },
    {
      "metadata": {
        "_uuid": "3469fbe1b65d3fb37cda28242532d2f8b7e8a6ed",
        "_cell_guid": "ad7b739e-d81b-43a2-a0db-1f5f1729512e"
      },
      "cell_type": "markdown",
      "source": "## Nation that were attacked the most"
    },
    {
      "metadata": {
        "_uuid": "fd1d93723d70451406c5d9cb02a9e7fe92e8bb1b",
        "_cell_guid": "871139bd-ea09-494c-a40a-39506080b6ff",
        "trusted": true
      },
      "cell_type": "code",
      "source": "df[df['targtype1_txt']=='Tourists']['natlty1_txt'].value_counts().head(10)\n# Maybe if you are born in US you might wanna be more careful when travelling.\n# The cause may come from the fact that US travel a lot compare to other nation.\n# Or maybe US were the most hated nation(?)",
      "execution_count": 41,
      "outputs": [
        {
          "output_type": "execute_result",
          "execution_count": 41,
          "data": {
            "text/plain": "Multinational    14\nIndia             8\nFrance            7\nUnited States     6\nIran              5\nGermany           4\nChina             3\nSouth Korea       3\nItaly             3\nPakistan          3\nName: natlty1_txt, dtype: int64"
          },
          "metadata": {}
        }
      ]
    },
    {
      "metadata": {
        "_uuid": "2bcf9456deaac1e42ba26c7dcf09f3961b23fece",
        "_cell_guid": "d632a948-1d7d-4a97-bb59-c054ea2c3eed"
      },
      "cell_type": "markdown",
      "source": "# Let's explore Finland crime rate"
    },
    {
      "metadata": {
        "_uuid": "4b56f57afcedfe2dbb6ee2dd8569738c8f9b6822",
        "_cell_guid": "157a25a7-9453-4a00-9698-683d49acde6c",
        "trusted": true
      },
      "cell_type": "code",
      "source": "df[df['country_txt']=='Finland'].shape",
      "execution_count": 42,
      "outputs": [
        {
          "output_type": "execute_result",
          "execution_count": 42,
          "data": {
            "text/plain": "(14, 135)"
          },
          "metadata": {}
        }
      ]
    },
    {
      "metadata": {
        "_uuid": "5a906d8fb242bbbd80be3424fa425fa95180e1c2",
        "_cell_guid": "3a2d1059-b124-45bd-8757-eee74f434f70"
      },
      "cell_type": "markdown",
      "source": "## Only 18 for the past 30 years\n____\n\nSummary: Visit Finland"
    },
    {
      "metadata": {
        "collapsed": true,
        "_uuid": "36e9648e3c4a114aef97ec396415259c7c2c8640",
        "_cell_guid": "977b0dc5-2c3a-446f-b5dc-b7d475a5abea",
        "trusted": false
      },
      "cell_type": "code",
      "source": "",
      "execution_count": null,
      "outputs": []
    }
  ],
  "metadata": {
    "language_info": {
      "name": "python",
      "version": "3.6.4",
      "mimetype": "text/x-python",
      "codemirror_mode": {
        "name": "ipython",
        "version": 3
      },
      "pygments_lexer": "ipython3",
      "nbconvert_exporter": "python",
      "file_extension": ".py"
    },
    "kernelspec": {
      "display_name": "Python 3",
      "language": "python",
      "name": "python3"
    }
  },
  "nbformat": 4,
  "nbformat_minor": 1
}