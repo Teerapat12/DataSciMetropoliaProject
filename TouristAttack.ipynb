{
  "cells": [
    {
      "metadata": {
        "_cell_guid": "2869c68b-ab54-4dea-83f4-80eeda6cf4e7",
        "_uuid": "b8e84965b22b3f1a18fdb8e3ffe2133c9ddd3b4a",
        "trusted": true
      },
      "cell_type": "code",
      "source": "# This Python 3 environment comes with many helpful analytics libraries installed\n# It is defined by the kaggle/python docker image: https://github.com/kaggle/docker-python\n# For example, here's several helpful packages to load in \n\nimport numpy as np # linear algebra\nimport pandas as pd # data processing, CSV file I/O (e.g. pd.read_csv)\n\n# Input data files are available in the \"../input/\" directory.\n# For example, running this (by clicking run or pressing Shift+Enter) will list the files in the input directory\n\nfrom subprocess import check_output\nprint(check_output([\"ls\", \"../input\"]).decode(\"utf8\"))\n\n# Any results you write to the current directory are saved as output.",
      "execution_count": 1,
      "outputs": [
        {
          "output_type": "stream",
          "text": "globalterrorismdb_0617dist.csv\n\n",
          "name": "stdout"
        }
      ]
    },
    {
      "metadata": {
        "trusted": true,
        "_uuid": "45e41b75847448e4eb28d1d97a9ee402dbbe2f86"
      },
      "cell_type": "code",
      "source": "df = pd.read_csv(\"../input/globalterrorismdb_0617dist.csv\",encoding='ISO-8859-1')\ndf.head()",
      "execution_count": 81,
      "outputs": [
        {
          "output_type": "stream",
          "text": "/opt/conda/lib/python3.6/site-packages/IPython/core/interactiveshell.py:2698: DtypeWarning: Columns (4,6,31,33,53,61,62,63,76,79,90,92,94,96,114,115,121) have mixed types. Specify dtype option on import or set low_memory=False.\n  interactivity=interactivity, compiler=compiler, result=result)\n",
          "name": "stderr"
        },
        {
          "output_type": "execute_result",
          "execution_count": 81,
          "data": {
            "text/plain": "        eventid  iyear  imonth  iday approxdate  extended resolution  country  \\\n0  197000000001   1970       7     2        NaN         0        NaN       58   \n1  197000000002   1970       0     0        NaN         0        NaN      130   \n2  197001000001   1970       1     0        NaN         0        NaN      160   \n3  197001000002   1970       1     0        NaN         0        NaN       78   \n4  197001000003   1970       1     0        NaN         0        NaN      101   \n\n          country_txt  region   ...    addnotes scite1 scite2  scite3  \\\n0  Dominican Republic       2   ...         NaN    NaN    NaN     NaN   \n1              Mexico       1   ...         NaN    NaN    NaN     NaN   \n2         Philippines       5   ...         NaN    NaN    NaN     NaN   \n3              Greece       8   ...         NaN    NaN    NaN     NaN   \n4               Japan       4   ...         NaN    NaN    NaN     NaN   \n\n   dbsource  INT_LOG  INT_IDEO INT_MISC INT_ANY  related  \n0      PGIS        0         0        0       0      NaN  \n1      PGIS        0         1        1       1      NaN  \n2      PGIS       -9        -9        1       1      NaN  \n3      PGIS       -9        -9        1       1      NaN  \n4      PGIS       -9        -9        1       1      NaN  \n\n[5 rows x 135 columns]",
            "text/html": "<div>\n<style>\n    .dataframe thead tr:only-child th {\n        text-align: right;\n    }\n\n    .dataframe thead th {\n        text-align: left;\n    }\n\n    .dataframe tbody tr th {\n        vertical-align: top;\n    }\n</style>\n<table border=\"1\" class=\"dataframe\">\n  <thead>\n    <tr style=\"text-align: right;\">\n      <th></th>\n      <th>eventid</th>\n      <th>iyear</th>\n      <th>imonth</th>\n      <th>iday</th>\n      <th>approxdate</th>\n      <th>extended</th>\n      <th>resolution</th>\n      <th>country</th>\n      <th>country_txt</th>\n      <th>region</th>\n      <th>...</th>\n      <th>addnotes</th>\n      <th>scite1</th>\n      <th>scite2</th>\n      <th>scite3</th>\n      <th>dbsource</th>\n      <th>INT_LOG</th>\n      <th>INT_IDEO</th>\n      <th>INT_MISC</th>\n      <th>INT_ANY</th>\n      <th>related</th>\n    </tr>\n  </thead>\n  <tbody>\n    <tr>\n      <th>0</th>\n      <td>197000000001</td>\n      <td>1970</td>\n      <td>7</td>\n      <td>2</td>\n      <td>NaN</td>\n      <td>0</td>\n      <td>NaN</td>\n      <td>58</td>\n      <td>Dominican Republic</td>\n      <td>2</td>\n      <td>...</td>\n      <td>NaN</td>\n      <td>NaN</td>\n      <td>NaN</td>\n      <td>NaN</td>\n      <td>PGIS</td>\n      <td>0</td>\n      <td>0</td>\n      <td>0</td>\n      <td>0</td>\n      <td>NaN</td>\n    </tr>\n    <tr>\n      <th>1</th>\n      <td>197000000002</td>\n      <td>1970</td>\n      <td>0</td>\n      <td>0</td>\n      <td>NaN</td>\n      <td>0</td>\n      <td>NaN</td>\n      <td>130</td>\n      <td>Mexico</td>\n      <td>1</td>\n      <td>...</td>\n      <td>NaN</td>\n      <td>NaN</td>\n      <td>NaN</td>\n      <td>NaN</td>\n      <td>PGIS</td>\n      <td>0</td>\n      <td>1</td>\n      <td>1</td>\n      <td>1</td>\n      <td>NaN</td>\n    </tr>\n    <tr>\n      <th>2</th>\n      <td>197001000001</td>\n      <td>1970</td>\n      <td>1</td>\n      <td>0</td>\n      <td>NaN</td>\n      <td>0</td>\n      <td>NaN</td>\n      <td>160</td>\n      <td>Philippines</td>\n      <td>5</td>\n      <td>...</td>\n      <td>NaN</td>\n      <td>NaN</td>\n      <td>NaN</td>\n      <td>NaN</td>\n      <td>PGIS</td>\n      <td>-9</td>\n      <td>-9</td>\n      <td>1</td>\n      <td>1</td>\n      <td>NaN</td>\n    </tr>\n    <tr>\n      <th>3</th>\n      <td>197001000002</td>\n      <td>1970</td>\n      <td>1</td>\n      <td>0</td>\n      <td>NaN</td>\n      <td>0</td>\n      <td>NaN</td>\n      <td>78</td>\n      <td>Greece</td>\n      <td>8</td>\n      <td>...</td>\n      <td>NaN</td>\n      <td>NaN</td>\n      <td>NaN</td>\n      <td>NaN</td>\n      <td>PGIS</td>\n      <td>-9</td>\n      <td>-9</td>\n      <td>1</td>\n      <td>1</td>\n      <td>NaN</td>\n    </tr>\n    <tr>\n      <th>4</th>\n      <td>197001000003</td>\n      <td>1970</td>\n      <td>1</td>\n      <td>0</td>\n      <td>NaN</td>\n      <td>0</td>\n      <td>NaN</td>\n      <td>101</td>\n      <td>Japan</td>\n      <td>4</td>\n      <td>...</td>\n      <td>NaN</td>\n      <td>NaN</td>\n      <td>NaN</td>\n      <td>NaN</td>\n      <td>PGIS</td>\n      <td>-9</td>\n      <td>-9</td>\n      <td>1</td>\n      <td>1</td>\n      <td>NaN</td>\n    </tr>\n  </tbody>\n</table>\n<p>5 rows × 135 columns</p>\n</div>"
          },
          "metadata": {}
        }
      ]
    },
    {
      "metadata": {
        "trusted": true,
        "_uuid": "63d66895eb204f340da2339ea89491a2de562629"
      },
      "cell_type": "code",
      "source": "",
      "execution_count": 83,
      "outputs": [
        {
          "output_type": "execute_result",
          "execution_count": 83,
          "data": {
            "text/plain": "(18, 135)"
          },
          "metadata": {}
        }
      ]
    },
    {
      "metadata": {
        "_uuid": "15d3a8f003e71b65f584ea6eeac10097f36a27c3"
      },
      "cell_type": "markdown",
      "source": "# Countries with highest terrorism attacks.\n\n_____"
    },
    {
      "metadata": {
        "trusted": true,
        "_uuid": "a904d7633b6f1516660fa5f1389cbc5b6387a6fe"
      },
      "cell_type": "code",
      "source": "df['country_txt'].value_counts().head(12)",
      "execution_count": 67,
      "outputs": [
        {
          "output_type": "execute_result",
          "execution_count": 67,
          "data": {
            "text/plain": "Iraq              22130\nPakistan          13634\nAfghanistan       11306\nIndia             10978\nColombia           8163\nPhilippines        6212\nPeru               6088\nEl Salvador        5320\nUnited Kingdom     5098\nTurkey             4106\nThailand           3668\nSomalia            3482\nName: country_txt, dtype: int64"
          },
          "metadata": {}
        }
      ]
    },
    {
      "metadata": {
        "_uuid": "977030f5a8b4c79ba49ef414317faa92eb1e39dd"
      },
      "cell_type": "markdown",
      "source": "* # Be more careful during these months"
    },
    {
      "metadata": {
        "trusted": true,
        "_uuid": "6e1f6835b7cfa1f11638b744a7b4bc81042fc01a"
      },
      "cell_type": "code",
      "source": "def monthlyCrime(countryNames):\n    for countryName in countryNames:\n        monthCount = df[df['country_txt']==countryName]['imonth'].value_counts()\n        monthCount.sort_index().plot(ylim=(0,2200),legend=True,label=countryName)\nmonthlyCrime(['Iraq','Thailand','United States','Finland'])\n# During Chrismas, New Year, you should be more careful in Iraq\n# For Thailand, be careful on August\n# For US, no clear patterns.",
      "execution_count": 86,
      "outputs": [
        {
          "output_type": "display_data",
          "data": {
            "text/plain": "<matplotlib.figure.Figure at 0x7fd726f8fe80>",
            "image/png": "[encoded data removed]"
          },
          "metadata": {}
        }
      ]
    },
    {
      "metadata": {
        "_uuid": "44b0c3f33f6200beca0bce00a863a57224467b98"
      },
      "cell_type": "markdown",
      "source": "## Be more careful around these cities\n___"
    },
    {
      "metadata": {
        "trusted": true,
        "collapsed": true,
        "_uuid": "9c00c5ae8489d2ae622759e88adb2856643e6add"
      },
      "cell_type": "code",
      "source": "def crimeByCity(countryName):\n    return df[df['country_txt']==countryName]['city'].value_counts().head(10)",
      "execution_count": 99,
      "outputs": []
    },
    {
      "metadata": {
        "trusted": true,
        "_uuid": "d81c2ccd76f4894bdc76efee0012436ec5a49906"
      },
      "cell_type": "code",
      "source": "crimeByCity('Iraq')\n# We can say that Baghdad is the most terrorist attraction (pun intended)\n# Maybe because it is the capital city so it has a lot more crime compare to other",
      "execution_count": 100,
      "outputs": [
        {
          "output_type": "execute_result",
          "execution_count": 100,
          "data": {
            "text/plain": "Baghdad         7204\nMosul           1775\nKirkuk           887\nBaqubah          725\nFallujah         561\nUnknown          495\nRamadi           482\nTikrit           398\nAbu Ghraib       290\nTuz Khormato     268\nName: city, dtype: int64"
          },
          "metadata": {}
        }
      ]
    },
    {
      "metadata": {
        "trusted": true,
        "_uuid": "6ac1cba17f6354fe06a4a9d97b888f4056b5f10b"
      },
      "cell_type": "code",
      "source": "crimeByCity('Thailand')\n# Many cities with high crime rates, different from Iraq where most crime occur in one city.",
      "execution_count": 101,
      "outputs": [
        {
          "output_type": "execute_result",
          "execution_count": 101,
          "data": {
            "text/plain": "Unknown         247\nBangkok         212\nYala            131\nMuang           115\nBannang Sata     66\nPattani          66\nSungai Kolok     59\nNarathiwat       54\nYarang           51\nRaman            51\nName: city, dtype: int64"
          },
          "metadata": {}
        }
      ]
    },
    {
      "metadata": {
        "trusted": true,
        "_uuid": "81138cbc9ff5c8a07f24bdaf5178c9e142c3d984"
      },
      "cell_type": "code",
      "source": "crimeByCity('United States')\n# Similar to Iraq in which the cpaital city has the most crime occured.",
      "execution_count": 102,
      "outputs": [
        {
          "output_type": "execute_result",
          "execution_count": 102,
          "data": {
            "text/plain": "New York City    449\nSan Juan         115\nLos Angeles      109\nSan Francisco     98\nMiami             85\nWashington        84\nChicago           56\nSeattle           39\nBerkeley          33\nDenver            22\nName: city, dtype: int64"
          },
          "metadata": {}
        }
      ]
    },
    {
      "metadata": {
        "trusted": true,
        "_uuid": "52c76b4333c3f80d947965d0b43e222835656e4f"
      },
      "cell_type": "code",
      "source": "crimeByCity('Finland')\n# Similar to Iraq in which the cpaital city has the most crime occured.",
      "execution_count": 103,
      "outputs": [
        {
          "output_type": "execute_result",
          "execution_count": 103,
          "data": {
            "text/plain": "Helsinki      4\nPargas        1\nVantaa        1\nOulu          1\nTuusula       1\nYlivieska     1\nPetajavesi    1\nTampere       1\nLammi         1\nKankaanpaa    1\nName: city, dtype: int64"
          },
          "metadata": {}
        }
      ]
    },
    {
      "metadata": {
        "_uuid": "de1bf1e36f067e3073bce1214e71046dd2ad15ff"
      },
      "cell_type": "markdown",
      "source": "### From all of this we can conclude that \n1.  Be alert of your life when you travel to capital city (or large city)\n1. Even more alert when you go to Iraq (especially Baghdad)"
    },
    {
      "metadata": {
        "_uuid": "2a2933486157ebdc8a71cd02badecc8871787855"
      },
      "cell_type": "markdown",
      "source": "## Explore crime concerning with Tourists"
    },
    {
      "metadata": {
        "trusted": true,
        "_uuid": "8e3353d1d59b3225f581176c90fdb21966ca9b2d"
      },
      "cell_type": "code",
      "source": "df[df['targtype1_txt']=='Tourists']['country_txt'].value_counts().head(20)",
      "execution_count": 104,
      "outputs": [
        {
          "output_type": "execute_result",
          "execution_count": 104,
          "data": {
            "text/plain": "Yemen                       27\nIndia                       27\nEgypt                       25\nFrance                      23\nAlgeria                     20\nSpain                       20\nColombia                    17\nTurkey                      17\nIsrael                      16\nPhilippines                 16\nPeru                        16\nGreece                      13\nItaly                       13\nGuatemala                   12\nPakistan                    10\nWest Bank and Gaza Strip    10\nUnited States                9\nUnited Kingdom               9\nIraq                         9\nJordan                       7\nName: country_txt, dtype: int64"
          },
          "metadata": {}
        }
      ]
    },
    {
      "metadata": {
        "_uuid": "51d0dc32ebbe25bc8c08cc860f09cf520bba3308"
      },
      "cell_type": "markdown",
      "source": "## Tourist crime by region"
    },
    {
      "metadata": {
        "trusted": true,
        "_uuid": "4f079b5cfdfcea2eaec1e6326ae5f66ff370763f"
      },
      "cell_type": "code",
      "source": "df[df['targtype1_txt']=='Tourists']['region_txt'].value_counts(1)\n# Most countries are from Middle East & North Africa. Second is Western Europe.",
      "execution_count": 105,
      "outputs": [
        {
          "output_type": "execute_result",
          "execution_count": 105,
          "data": {
            "text/plain": "Middle East & North Africa     0.333333\nWestern Europe                 0.216783\nSouth Asia                     0.109557\nSouth America                  0.088578\nSub-Saharan Africa             0.076923\nSoutheast Asia                 0.076923\nCentral America & Caribbean    0.039627\nNorth America                  0.025641\nEastern Europe                 0.018648\nEast Asia                      0.006993\nCentral Asia                   0.004662\nAustralasia & Oceania          0.002331\nName: region_txt, dtype: float64"
          },
          "metadata": {}
        }
      ]
    },
    {
      "metadata": {
        "_uuid": "155c7e92e50a942bc2ff664aadaa173d4f9a498b"
      },
      "cell_type": "markdown",
      "source": "![](http://)## Type of attacks towards tourists"
    },
    {
      "metadata": {
        "trusted": true,
        "_uuid": "8c2f2c29e8007af856031a0ecba2569a19a79312"
      },
      "cell_type": "code",
      "source": "df[df['targtype1_txt']=='Tourists']['attacktype1_txt'].value_counts()\n# Bombing is the most efficient (and conveinant) way  for terrorist to do bad things.\n# You should be careful to explosion",
      "execution_count": 107,
      "outputs": [
        {
          "output_type": "execute_result",
          "execution_count": 107,
          "data": {
            "text/plain": "Bombing/Explosion                      176\nHostage Taking (Kidnapping)             98\nArmed Assault                           88\nAssassination                           36\nFacility/Infrastructure Attack          13\nUnknown                                  6\nHostage Taking (Barricade Incident)      5\nUnarmed Assault                          4\nHijacking                                3\nName: attacktype1_txt, dtype: int64"
          },
          "metadata": {}
        }
      ]
    },
    {
      "metadata": {
        "_uuid": "4a18666f9a378bfcdcb6dc16d500142fc46b489b"
      },
      "cell_type": "markdown",
      "source": "## Nation that were attacked the most"
    },
    {
      "metadata": {
        "trusted": true,
        "_uuid": "f039855ed56194ad8405b3c1da36c805035ae9dc"
      },
      "cell_type": "code",
      "source": "df[df['targtype1_txt']=='Tourists']['natlty1_txt'].value_counts().head(10)\n# Maybe if you are born in US you might wanna be more careful when travelling.\n# The cause may come from the fact that US travel a lot compare to other nation.\n# Or maybe US were the most hated nation(?)",
      "execution_count": 109,
      "outputs": [
        {
          "output_type": "execute_result",
          "execution_count": 109,
          "data": {
            "text/plain": "United States    36\nMultinational    32\nGermany          28\nFrance           28\nSpain            23\nGreat Britain    22\nItaly            22\nIsrael           21\nIndia            19\nTurkey           13\nName: natlty1_txt, dtype: int64"
          },
          "metadata": {}
        }
      ]
    },
    {
      "metadata": {
        "_uuid": "497e462003d46b031344b1363cb509f76bfe156f"
      },
      "cell_type": "markdown",
      "source": "# Let's explore Finland crime rate"
    },
    {
      "metadata": {
        "trusted": true,
        "_uuid": "5e9622c000426ef16f643a84a2ebd3ac9b99789c"
      },
      "cell_type": "code",
      "source": "df[df['country_txt']=='Finland'].shape",
      "execution_count": 85,
      "outputs": [
        {
          "output_type": "execute_result",
          "execution_count": 85,
          "data": {
            "text/plain": "(18, 135)"
          },
          "metadata": {}
        }
      ]
    },
    {
      "metadata": {
        "_uuid": "2c4a0c7879bd9ba7fc8922cc79de908814cf38ca"
      },
      "cell_type": "markdown",
      "source": "## Only 18 for the past 30 years\n____\n\nSummary: Visit Finland"
    },
    {
      "metadata": {
        "trusted": true,
        "collapsed": true,
        "_uuid": "6639bc7efe1d80f5f35b83696eb9e552b809ef5a"
      },
      "cell_type": "code",
      "source": "",
      "execution_count": null,
      "outputs": []
    }
  ],
  "metadata": {
    "language_info": {
      "name": "python",
      "version": "3.6.4",
      "mimetype": "text/x-python",
      "codemirror_mode": {
        "name": "ipython",
        "version": 3
      },
      "pygments_lexer": "ipython3",
      "nbconvert_exporter": "python",
      "file_extension": ".py"
    },
    "kernelspec": {
      "display_name": "Python 3",
      "language": "python",
      "name": "python3"
    }
  },
  "nbformat": 4,
  "nbformat_minor": 1
}